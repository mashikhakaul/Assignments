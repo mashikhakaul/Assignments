{
 "cells": [
  {
   "cell_type": "markdown",
   "metadata": {},
   "source": [
    "## What is the true normal human body temperature? \n",
    "\n",
    "#### Background\n",
    "\n",
    "The mean normal body temperature was held to be 37$^{\\circ}$C or 98.6$^{\\circ}$F for more than 120 years since it was first conceptualized and reported by Carl Wunderlich in a famous 1868 book. In 1992, this value was revised to 36.8$^{\\circ}$C or 98.2$^{\\circ}$F. \n",
    "\n",
    "#### Exercise\n",
    "In this exercise, you will analyze a dataset of human body temperatures and employ the concepts of hypothesis testing, confidence intervals, and statistical significance.\n",
    "\n",
    "Answer the following questions **in this notebook below and submit to your Github account**. \n",
    "\n",
    "1.  Is the distribution of body temperatures normal? \n",
    "    - Remember that this is a condition for the CLT, and hence the statistical tests we are using, to apply. \n",
    "2.  Is the true population mean really 98.6 degrees F?\n",
    "    - Bring out the one sample hypothesis test! In this situation, is it approriate to apply a z-test or a t-test? How will the result be different?\n",
    "3.  At what temperature should we consider someone's temperature to be \"abnormal\"?\n",
    "    - Start by computing the margin of error and confidence interval.\n",
    "4.  Is there a significant difference between males and females in normal temperature?\n",
    "    - Set up and solve for a two sample hypothesis testing.\n",
    "\n",
    "You can include written notes in notebook cells using Markdown: \n",
    "   - In the control panel at the top, choose Cell > Cell Type > Markdown\n",
    "   - Markdown syntax: http://nestacms.com/docs/creating-content/markdown-cheat-sheet\n",
    "\n",
    "#### Resources\n",
    "\n",
    "+ Information and data sources: http://www.amstat.org/publications/jse/datasets/normtemp.txt, http://www.amstat.org/publications/jse/jse_data_archive.htm\n",
    "+ Markdown syntax: http://nestacms.com/docs/creating-content/markdown-cheat-sheet\n",
    "\n",
    "****"
   ]
  },
  {
   "cell_type": "code",
   "execution_count": 2,
   "metadata": {
    "collapsed": true
   },
   "outputs": [],
   "source": [
    "import pandas as pd\n",
    "import numpy as np"
   ]
  },
  {
   "cell_type": "markdown",
   "metadata": {
    "collapsed": false
   },
   "source": [
    "##Plotting temperature histogram of dataset\n",
    "df = pd.read_csv('human_body_temperature.csv')\n",
    "print df\n",
    "print df.describe()\n",
    "m = df.temperature.mean()\n",
    "sigma = df.temperature.std()\n",
    "print m\n",
    "%matplotlib inline\n",
    "%matplotlib inline\n",
    "df.temperature.hist()\n",
    "plt.title('Length of message')\n",
    "plt.xlabel('Length of Message')\n",
    "plt.ylabel('Frequency')\n"
   ]
  },
  {
   "cell_type": "code",
   "execution_count": 36,
   "metadata": {
    "collapsed": false
   },
   "outputs": [],
   "source": [
    "#As shown in the graph which is approximately as bell shaped histogram above the distribution of body temperature is normal.\n",
    "#Mean of the temperature sample is 98.24F\n"
   ]
  },
  {
   "cell_type": "code",
   "execution_count": 15,
   "metadata": {
    "collapsed": false
   },
   "outputs": [
    {
     "data": {
      "image/png": "[encoded data removed]",
      "text/plain": [
       "<matplotlib.figure.Figure at 0xa37bd68>"
      ]
     },
     "metadata": {},
     "output_type": "display_data"
    }
   ],
   "source": [
    "#Applying CLT\n",
    "import random\n",
    "import scipy\n",
    "import numpy as np\n",
    "import matplotlib.pyplot as plt\n",
    "%matplotlib inline\n",
    "#print df\n",
    "t = []\n",
    "temp = pd.DataFrame(columns=['tempe'])\n",
    "for i in range(0,100):\n",
    "    samp = random.sample(df.temperature,110)\n",
    "    \n",
    "    \n",
    "    temp.loc[i,'tempe']= scipy.mean(samp)\n",
    "    #print temp\n",
    "    \n",
    "    # = [scipy.mean(samp)]\n",
    "    \n",
    "#print temp\n",
    "#t = np.asarray(temp)\n",
    "#print t\n",
    "temp.tempe.hist()\n",
    "plt.title('Sampling distribution of sample mean')\n",
    "plt.xlabel('Temperature')\n",
    "plt.ylabel('Frequency')\n",
    "plt.show()"
   ]
  },
  {
   "cell_type": "code",
   "execution_count": null,
   "metadata": {
    "collapsed": true
   },
   "outputs": [],
   "source": [
    "#As shown in the histrogram creating using the concept of CLT theorem, the graph has normal distribution.\n",
    "#Sample size is greater than 30 that is 130 so Z distibution works here."
   ]
  },
  {
   "cell_type": "code",
   "execution_count": 27,
   "metadata": {
    "collapsed": false
   },
   "outputs": [
    {
     "name": "stdout",
     "output_type": "stream",
     "text": [
      "-5.59837127374\n"
     ]
    }
   ],
   "source": [
    "#Calculate z \n",
    "import math\n",
    "give_pop_mean = 98.6\n",
    "\n",
    "calc_mean = 98.24\n",
    "std = df.temperature.std()\n",
    "n = 130\n",
    "z = (calc_mean - give_pop_mean)*math.sqrt(n)/(std)\n",
    "print z\n"
   ]
  },
  {
   "cell_type": "code",
   "execution_count": 20,
   "metadata": {
    "collapsed": true
   },
   "outputs": [],
   "source": [
    "\n",
    "#for z =0.49 value in z table is 0.1879\n",
    "calc_mean = 98.24\n",
    "std = df.temperature.std()"
   ]
  },
  {
   "cell_type": "code",
   "execution_count": 24,
   "metadata": {
    "collapsed": false
   },
   "outputs": [
    {
     "name": "stdout",
     "output_type": "stream",
     "text": [
      "[97.51604761119184, 98.98241392726972]\n"
     ]
    }
   ],
   "source": [
    "# calcuating confidence interva \n",
    "import scipy.stats as stats   \n",
    "stderr = stats.sem(df.temperature)\n",
    "confidence_interval = [df.temperature.mean() - std, df.temperature.mean() + std]\n",
    "print confidence_interval"
   ]
  },
  {
   "cell_type": "code",
   "execution_count": 33,
   "metadata": {
    "collapsed": true
   },
   "outputs": [],
   "source": [
    "#According to confidence interval found above anything outside the range of temperature 97.5 and 98.98 is considered abnormal."
   ]
  },
  {
   "cell_type": "code",
   "execution_count": 34,
   "metadata": {
    "collapsed": false
   },
   "outputs": [
    {
     "name": "stdout",
     "output_type": "stream",
     "text": [
      "Ttest_indResult(statistic=-2.2854345381656112, pvalue=0.023938264182934196)\n"
     ]
    }
   ],
   "source": [
    "#Two sample hypothesis testing\n",
    "males = df[df['gender'] == 'M']\n",
    "females = df[df['gender'] == 'F']\n",
    "#print males\n",
    "#print females\n",
    "test_int = scipy.stats.ttest_ind(males['temperature'], females['temperature'], equal_var=False)\n",
    "print test_int"
   ]
  },
  {
   "cell_type": "code",
   "execution_count": 37,
   "metadata": {
    "collapsed": false
   },
   "outputs": [],
   "source": [
    "#p-value = 2%, implies we can reject the null hypothesist that there is no difference in mean temperature between males and females."
   ]
  },
  {
   "cell_type": "code",
   "execution_count": null,
   "metadata": {
    "collapsed": true
   },
   "outputs": [],
   "source": []
  }
 ],
 "metadata": {
  "kernelspec": {
   "display_name": "Python [Root]",
   "language": "python",
   "name": "Python [Root]"
  },
  "language_info": {
   "codemirror_mode": {
    "name": "ipython",
    "version": 2
   },
   "file_extension": ".py",
   "mimetype": "text/x-python",
   "name": "python",
   "nbconvert_exporter": "python",
   "pygments_lexer": "ipython2",
   "version": "2.7.11"
  }
 },
 "nbformat": 4,
 "nbformat_minor": 0
}
