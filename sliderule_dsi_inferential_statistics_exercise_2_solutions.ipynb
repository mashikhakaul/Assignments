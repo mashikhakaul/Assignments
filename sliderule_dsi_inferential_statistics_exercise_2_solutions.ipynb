{
 "cells": [
  {
   "cell_type": "markdown",
   "metadata": {},
   "source": [
    "\n",
    "### Examining racial discrimination in the US job market\n",
    "\n",
    "#### Background\n",
    "Racial discrimination continues to be pervasive in cultures throughout the world. Researchers examined the level of racial discrimination in the United States labor market by randomly assigning identical résumés black-sounding or white-sounding names and observing the impact on requests for interviews from employers.\n",
    "\n",
    "#### Data\n",
    "In the dataset provided, each row represents a resume. The 'race' column has two values, 'b' and 'w', indicating black-sounding and white-sounding. The column 'call' has two values, 1 and 0, indicating whether the resume received a call from employers or not.\n",
    "\n",
    "Note that the 'b' and 'w' values in race are assigned randomly to the resumes.\n",
    "\n",
    "#### Exercise\n",
    "You will perform a statistical analysis to establish whether race has a significant impact on the rate of callbacks for resumes.\n",
    "\n",
    "Answer the following questions **in this notebook below and submit to your Github account**. \n",
    "\n",
    "   1. What test is appropriate for this problem? Does CLT apply?\n",
    "   2. What are the null and alternate hypotheses?\n",
    "   3. Compute margin of error, confidence interval, and p-value.\n",
    "   4. Discuss statistical significance.\n",
    "\n",
    "You can include written notes in notebook cells using Markdown: \n",
    "   - In the control panel at the top, choose Cell > Cell Type > Markdown\n",
    "   - Markdown syntax: http://nestacms.com/docs/creating-content/markdown-cheat-sheet\n",
    "\n",
    "\n",
    "#### Resources\n",
    "+ Experiment information and data source: http://www.povertyactionlab.org/evaluation/discrimination-job-market-united-states\n",
    "+ Scipy statistical methods: http://docs.scipy.org/doc/scipy/reference/stats.html \n",
    "+ Markdown syntax: http://nestacms.com/docs/creating-content/markdown-cheat-sheet\n",
    "\n",
    "****"
   ]
  },
  {
   "cell_type": "code",
   "execution_count": null,
   "metadata": {
    "collapsed": true
   },
   "outputs": [],
   "source": [
    "import pandas as pd\n",
    "import numpy as np\n",
    "from scipy import stats"
   ]
  },
  {
   "cell_type": "code",
   "execution_count": null,
   "metadata": {
    "collapsed": false
   },
   "outputs": [],
   "source": [
    "data = pd.io.stata.read_stata('us_job_market_discrimination.dta')\n",
    "print data.head()\n"
   ]
  },
  {
   "cell_type": "code",
   "execution_count": null,
   "metadata": {
    "collapsed": false
   },
   "outputs": [],
   "source": [
    "\n",
    "#print data.describe()\n",
    "# number of callbacks for balck-sounding names\n",
    "blk_call=sum(data[data.race=='b'].call)\n",
    "print blk_call\n",
    "wht_call = sum(data[data.race=='w'].call)\n",
    "print wht_call"
   ]
  },
  {
   "cell_type": "code",
   "execution_count": null,
   "metadata": {
    "collapsed": false
   },
   "outputs": [],
   "source": [
    "blacks = data[data.race=='b']\n",
    "whites = data[data.race=='w']\n",
    "#print black.describe()\n",
    "print len(blacks)\n",
    "print len(whites)"
   ]
  },
  {
   "cell_type": "code",
   "execution_count": null,
   "metadata": {
    "collapsed": false
   },
   "outputs": [],
   "source": [
    "#null hypothesis : race has no effect on getting an interview call\n",
    "#let significance level is 10%\n",
    "\n",
    "blacks_called = len(blacks[blacks['call'] == True])\n",
    "print blacks_called\n",
    "blacks_not_called = len(blacks[blacks['call'] == False])\n",
    "print blacks_not_called\n",
    "whites_called = len(whites[whites['call'] == True])\n",
    "print whites_called\n",
    "whites_not_called = len(whites[whites['call'] == False])\n",
    "print whites_not_called"
   ]
  },
  {
   "cell_type": "code",
   "execution_count": null,
   "metadata": {
    "collapsed": false
   },
   "outputs": [],
   "source": [
    "called_back = blacks_called + whites_called\n",
    "print called_back\n",
    "not_called = blacks_not_called + whites_not_called\n",
    "print not_called\n",
    "print len(data)"
   ]
  },
  {
   "cell_type": "code",
   "execution_count": null,
   "metadata": {
    "collapsed": false
   },
   "outputs": [],
   "source": [
    "rate_of_callback = (called_back)/not_called#len(data)\n",
    "rate_of_callback = 0.087"
   ]
  },
  {
   "cell_type": "code",
   "execution_count": null,
   "metadata": {
    "collapsed": false
   },
   "outputs": [],
   "source": [
    "expected_call_black = (blacks_called + blacks_not_called) *0.087\n",
    "print expected_call_black"
   ]
  },
  {
   "cell_type": "code",
   "execution_count": null,
   "metadata": {
    "collapsed": false
   },
   "outputs": [],
   "source": [
    "expected_call_white = (whites_called + whites_not_called)*(0.087)\n",
    "print expected_call_white"
   ]
  },
  {
   "cell_type": "code",
   "execution_count": null,
   "metadata": {
    "collapsed": false
   },
   "outputs": [],
   "source": [
    "expected_no_call_black = len(blacks)- expected_call_black\n",
    "print expected_no_call_black"
   ]
  },
  {
   "cell_type": "code",
   "execution_count": null,
   "metadata": {
    "collapsed": false
   },
   "outputs": [],
   "source": [
    "expected_no_call_white = len(whites)- expected_call_white\n",
    "print expected_no_call_white"
   ]
  },
  {
   "cell_type": "code",
   "execution_count": null,
   "metadata": {
    "collapsed": false
   },
   "outputs": [],
   "source": [
    "import scipy.stats as stats\n",
    "observed_frequencies = [blacks_not_called, whites_not_called, whites_called, blacks_called]\n",
    "expected_frequencies = [expected_no_call_black, expected_no_call_white, expected_call_white, expected_call_black]\n",
    "\n",
    "\n",
    "# We use degrees of freedom 1, which we calculate as \n",
    "# (num columns - 1) * (num_rows - 1) = 1 \n",
    "# The degrees of freedom is k - 1 - ddof (the adjustment to the degrees of freedom)\n",
    "stats.chisquare(f_obs = observed_frequencies,\n",
    "                f_exp = expected_frequencies, ddof=2)"
   ]
  },
  {
   "cell_type": "code",
   "execution_count": null,
   "metadata": {
    "collapsed": true
   },
   "outputs": [],
   "source": [
    "#The result is 18.324 and the p-value for the given degrees of freedom is given as 1.8634423521092039e-05, which is highly significant. We conclude that race plays a significant role in callbacks."
   ]
  },
  {
   "cell_type": "code",
   "execution_count": null,
   "metadata": {
    "collapsed": false
   },
   "outputs": [],
   "source": [
    "\n",
    "n1 = len(whites)\n",
    "n2 = len(blacks)\n",
    "p1 = float(whites_called)/ n1\n",
    "p2 = float(blacks_called) / n2\n",
    "print n1\n",
    "print n2\n",
    "print p1\n",
    "print p2"
   ]
  },
  {
   "cell_type": "code",
   "execution_count": null,
   "metadata": {
    "collapsed": false
   },
   "outputs": [],
   "source": [
    "#calculating standard error:\n",
    "p = float(p1 * n1 + p2 * n2) / (n1 + n2)\n",
    "print p"
   ]
  },
  {
   "cell_type": "code",
   "execution_count": null,
   "metadata": {
    "collapsed": false
   },
   "outputs": [],
   "source": [
    "p1= float(p)\n",
    "print p1\n",
    "t = p * (1-p)\n",
    "r = n1 + n2\n",
    "q = n1*n2\n",
    "s = float(r)/q\n",
    "#print s\n",
    "#print q\n",
    "#print r\n",
    "#print t\n",
    "d = float(r)/q\n",
    "print d\n",
    "stderr = np.sqrt(t * d)\n",
    "print stderr\n",
    "z = (p1-p2)/stderr\n",
    "print z"
   ]
  },
  {
   "cell_type": "code",
   "execution_count": null,
   "metadata": {
    "collapsed": false
   },
   "outputs": [],
   "source": [
    "\n",
    "p_values = stats.norm.sf(abs(z))*2\n",
    "print p_values"
   ]
  },
  {
   "cell_type": "code",
   "execution_count": null,
   "metadata": {
    "collapsed": true
   },
   "outputs": [],
   "source": [
    "#The p-value is less than alpha (0.10) so we can reject the null hypothesis. There is evidence that the rate of callbacks is higher among whites than blacks."
   ]
  },
  {
   "cell_type": "code",
   "execution_count": null,
   "metadata": {
    "collapsed": false
   },
   "outputs": [],
   "source": [
    "#confidence interval\n",
    "z = 1.96 #for alpha = 0.05\n",
    "confidence_interval = [p - z * stderr, p + z * stderr]\n",
    "confidence_interval"
   ]
  },
  {
   "cell_type": "code",
   "execution_count": null,
   "metadata": {
    "collapsed": true
   },
   "outputs": [],
   "source": [
    "#In the above hypothesis tests, we used the 95% confidence level. Another of stating this is alpha, the error rate we're willing to accept, is 5%. Less than 5% of the time, random variation would account for the results we saw."
   ]
  },
  {
   "cell_type": "code",
   "execution_count": null,
   "metadata": {
    "collapsed": true
   },
   "outputs": [],
   "source": []
  },
  {
   "cell_type": "code",
   "execution_count": null,
   "metadata": {
    "collapsed": true
   },
   "outputs": [],
   "source": []
  }
 ],
 "metadata": {
  "kernelspec": {
   "display_name": "Python [Root]",
   "language": "python",
   "name": "Python [Root]"
  },
  "language_info": {
   "codemirror_mode": {
    "name": "ipython",
    "version": 2
   },
   "file_extension": ".py",
   "mimetype": "text/x-python",
   "name": "python",
   "nbconvert_exporter": "python",
   "pygments_lexer": "ipython2",
   "version": "2.7.11"
  }
 },
 "nbformat": 4,
 "nbformat_minor": 0
}
